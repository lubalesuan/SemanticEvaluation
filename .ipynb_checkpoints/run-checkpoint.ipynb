{
 "cells": [
  {
   "cell_type": "markdown",
   "metadata": {},
   "source": [
    "# Description\n",
    "\n",
    "This project takes in two graphs (target and pattern) and outputs whether these graphs match. Each graph is a sentence/phrase represented by json dict with ont_types and roles for each word.\n",
    "Two trees are matched if all nodes and all edges match. In other words:\n",
    "   For every Node t from target tree there is a Node p from pattern tree such that:\n",
    "       1. Their roles are identical\n",
    "       2. Their ont_types are identical or ont_type t < ont_type p (subtype)   "
   ]
  },
  {
   "cell_type": "markdown",
   "metadata": {},
   "source": [
    "# Instructions\n",
    "\n",
    "1) Upload target and pattern graph files below. "
   ]
  },
  {
   "cell_type": "code",
   "execution_count": null,
   "metadata": {},
   "outputs": [],
   "source": [
    "target_graph_file = input(\"Type in your target graph file name:\")\n",
    "pattern_graph_file= input(\"Type in your pattern graph file name:\")\n"
   ]
  },
  {
   "cell_type": "markdown",
   "metadata": {},
   "source": [
    "2) Build target tree where children are dicts with key = role, value = Node struct."
   ]
  },
  {
   "cell_type": "code",
   "execution_count": null,
   "metadata": {
    "scrolled": true
   },
   "outputs": [],
   "source": [
    "from process import build_tree, match_trees\n",
    "from ontology.ontology import load\n",
    "# from code.tree import TargetTree, PatternTree, match_trees\n",
    "\n",
    "target_tree = build_tree(target_graph_file, \"target\") #build a tree from target file to match nodes and edges\n"
   ]
  },
  {
   "cell_type": "markdown",
   "metadata": {},
   "source": [
    "3) Build pattern tree following the same meethod as target tree.\n"
   ]
  },
  {
   "cell_type": "code",
   "execution_count": null,
   "metadata": {},
   "outputs": [],
   "source": [
    "pattern_tree = build_tree(pattern_graph_file, \"pattern\") #build a tree from pattern file to match nodes and edges\n",
    "\n",
    "#prints out pattern_tree"
   ]
  },
  {
   "cell_type": "markdown",
   "metadata": {},
   "source": [
    "4) Match two trees if nodes and all edges match. "
   ]
  },
  {
   "cell_type": "code",
   "execution_count": null,
   "metadata": {},
   "outputs": [],
   "source": [
    "match_trees(pattern_tree, target_tree)\n"
   ]
  },
  {
   "cell_type": "markdown",
   "metadata": {},
   "source": [
    "# How the code works\n",
    "\n",
    "## File description\n",
    "\n",
    "1. ### ontology.py\n",
    "\n",
    "Runs operations on ontology types:\n",
    "    * \"<\" is subsumption\n",
    "    * \"^\" finds least common subsumer\n",
    "\n",
    "2. ### process.py\n",
    "\n",
    "Runs main processes: \n",
    "    * build_tree - returns a pattern/target tree from input file\n",
    "    * match_trees - outputs whether the two trees matched.\n",
    "    \n",
    " 3. ### tree.py\n",
    " \n",
    " Runs inner processes for tree processing:\n",
    " \n",
    "     * **Node** - implementation of tree for both target and pattern trees\n",
    "         - ont_type\n",
    "         - role\n",
    "         - children - children is a dict with key = node's role, and value = Node. The reason for that is easier tree matching process. Instead of comparing every node child from pattern and target trees, I only match nodes whose role is equivalent. For example, if there is role \"affected\" in target and pattern tree, I search children by \"affected\" key, and get nodes who have this role. This way, I don't need to compare roles again.\n",
    "\n",
    "     * **TargetTree** - recursively builds the target tree\n",
    "         - init - initializes tree with and saves it in root and prints the tree\n",
    "         - rec_tree - recursively traverses target file by finding root node, finding its children by id in \"roles\" key. Repeat the process until a node has no children found in \"roles\" key. Each child node is identified by \"#\" before the rest of id.\n",
    "         - find_root - since target file has sa_act node, we set the root node to the one that comes after sa_act, otherwise the trees wouldn't match\n",
    "        \n",
    "     * **PatternTree** - recursively builds the pattern tree\n",
    "         - init - same as target tree init\n",
    "         - rec_tree - on each level of the pattern file dict:\n",
    "             * find root node of that level\n",
    "             * find its children (all nodes at same level, whose key is not \"root\")\n",
    "             \n",
    "     * **General functions**\n",
    "         - print_tree - recursively prints tree by recursing over node's children\n",
    "         - rec_match_trees - recursive tree matching. For each node:\n",
    "             * if nodes's ont types are matched\n",
    "             * if number of children matches\n",
    "             * if each child from pattern tree has a matching node from target tree. This is done by finding nodes that match by roles, and checking if their ont types match\n",
    "    If these conditions are satisfied for each node, return True, else False\n",
    "         - match_ont_type - check if two nodes ont types match. You can uncomment print statements to see which nodes got matched and why. Nodes' ont types match if they:\n",
    "             * have identical ont types\n",
    "             * ont type of pattern tree node subsumes ont type of target tree node\n",
    "             * they have a common least common subsumer\n",
    "       \n",
    "        \n",
    "\n"
   ]
  },
  {
   "cell_type": "markdown",
   "metadata": {},
   "source": [
    "# Examples\n",
    "\n",
    "In the first example, I am matching the pattern tree from README with 3 target trees I created. Successful match of expressions 1 and 2 shows that ontology types have matched based on least common subsumer. Expression 2 failed because there are missing roles. "
   ]
  },
  {
   "cell_type": "code",
   "execution_count": null,
   "metadata": {},
   "outputs": [],
   "source": [
    "from process import build_tree, match_trees\n",
    "from ontology.ontology import load\n",
    "\n",
    "target_trees = [None for i in range(3)]\n",
    "print(\"Expression 1: I want to eat\")\n",
    "target_trees[0] = build_tree(\"input/target1.json\", \"target\")\n",
    "print(\"Expression 2: I want\")\n",
    "target_trees[1] = build_tree(\"input/target2.json\", \"target\")\n",
    "print(\"Expression 3: I want to drink\")\n",
    "target_trees[2] = build_tree(\"input/target3.json\", \"target\")\n",
    "pattern_tree1 = build_tree(\"input/pattern1.json\", \"pattern\")"
   ]
  },
  {
   "cell_type": "code",
   "execution_count": null,
   "metadata": {
    "scrolled": true
   },
   "outputs": [],
   "source": [
    "for i in range(len(target_trees)):\n",
    "    print(\"Match expression %d with pattern tree:\" % (i+1))\n",
    "    match_trees(pattern_tree1, target_trees[i])"
   ]
  },
  {
   "cell_type": "markdown",
   "metadata": {},
   "source": [
    "# Answer to questions\n",
    "    \n",
    "    * How could you use patterns to extract information? Describe the procedure.\n",
    "    * What kind of facts can you extract?\n",
    "    * What kind of questions can you answer?\n",
    "    * What modifications would you have to make in order to answer simple questions?"
   ]
  },
  {
   "cell_type": "markdown",
   "metadata": {},
   "source": [
    "# To do\n",
    "\n",
    "1. Provide explanation for failures\n",
    "2. Provide more examples\n",
    "3. Answer report questions"
   ]
  }
 ],
 "metadata": {
  "kernelspec": {
   "display_name": "Python 3",
   "language": "python",
   "name": "python3"
  },
  "language_info": {
   "codemirror_mode": {
    "name": "ipython",
    "version": 3
   },
   "file_extension": ".py",
   "mimetype": "text/x-python",
   "name": "python",
   "nbconvert_exporter": "python",
   "pygments_lexer": "ipython3",
   "version": "3.5.1"
  }
 },
 "nbformat": 4,
 "nbformat_minor": 2
}
