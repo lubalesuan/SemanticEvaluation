{
 "cells": [
  {
   "cell_type": "markdown",
   "metadata": {},
   "source": [
    "## Instructions\n",
    "\n",
    "Upload target and pattern graph files below. "
   ]
  },
  {
   "cell_type": "code",
   "execution_count": 1,
   "metadata": {},
   "outputs": [
    {
     "name": "stdout",
     "output_type": "stream",
     "text": [
      "Type in your target graph file name:input/target.json\n",
      "Type in your pattern graph file name:input/pattern.json\n",
      "input/target.json\n",
      "input/pattern.json\n",
      "Stored 'target_graph_file' (str)\n",
      "Stored 'pattern_graph_file' (str)\n"
     ]
    }
   ],
   "source": [
    "target_graph_file = raw_input(\"Type in your target graph file name:\")\n",
    "pattern_graph_file= raw_input(\"Type in your pattern graph file name:\")\n",
    "\n",
    "print(target_graph_file)\n",
    "print(pattern_graph_file)\n",
    "\n",
    "%store target_graph_file\n",
    "%store pattern_graph_file"
   ]
  },
  {
   "cell_type": "code",
   "execution_count": 2,
   "metadata": {
    "scrolled": true
   },
   "outputs": [
    {
     "name": "stdout",
     "output_type": "stream",
     "text": [
      "{u'root': u'WANT', u'experiencer': {u'root': u'PERSON'}, u'formal': {u'root': u'CONSUME', u'agent': {u'root': u'PERSON'}}}\n",
      "('ont word ', None)\n",
      "('ont word ', None)\n",
      "('ont ', None, ' role ', u'experiencer')\n",
      "('ont word ', None)\n",
      "('ont word ', None)\n",
      "('ont ', None, ' role ', u'agent')\n",
      "('ont ', None, ' role ', u'formal')\n",
      "('ont ', None, ' role ', 'root')\n",
      "{u'root': u'WANT', u'experiencer': {u'root': u'PERSON'}, u'formal': {u'root': u'CONSUME', u'agent': {u'root': u'PERSON'}}}\n",
      "('ont word ', None)\n",
      "('ont word ', None)\n",
      "('ont ', None, ' role ', u'experiencer')\n",
      "('ont word ', None)\n",
      "('ont word ', None)\n",
      "('ont ', None, ' role ', u'agent')\n",
      "('ont ', None, ' role ', u'formal')\n",
      "('ont ', None, ' role ', 'root')\n"
     ]
    }
   ],
   "source": [
    "from code.process import build_tree\n",
    "from ontology.ontology import load\n",
    "\n",
    "# target_tree = build_tree(target_graph_file, \"target\") #build a tree from target file to match nodes and edges\n",
    "pattern_tree = build_tree(pattern_graph_file, \"pattern\") #build a tree from pattern file to match nodes and edges\n"
   ]
  },
  {
   "cell_type": "code",
   "execution_count": null,
   "metadata": {},
   "outputs": [],
   "source": []
  }
 ],
 "metadata": {
  "kernelspec": {
   "display_name": "Python 2",
   "language": "python",
   "name": "python2"
  },
  "language_info": {
   "codemirror_mode": {
    "name": "ipython",
    "version": 2
   },
   "file_extension": ".py",
   "mimetype": "text/x-python",
   "name": "python",
   "nbconvert_exporter": "python",
   "pygments_lexer": "ipython2",
   "version": "2.7.15"
  }
 },
 "nbformat": 4,
 "nbformat_minor": 2
}
