{
 "cells": [
  {
   "cell_type": "markdown",
   "metadata": {},
   "source": [
    "## Instructions\n",
    "\n",
    "Upload target and pattern graph files below. "
   ]
  },
  {
   "cell_type": "code",
   "execution_count": 1,
   "metadata": {},
   "outputs": [
    {
     "name": "stdout",
     "output_type": "stream",
     "text": [
      "Type in your target graph file name:input/target.json\n",
      "Type in your pattern graph file name:input/pattern.json\n",
      "input/target.json\n",
      "input/pattern.json\n",
      "Stored 'target_graph_file' (str)\n",
      "Stored 'pattern_graph_file' (str)\n"
     ]
    }
   ],
   "source": [
    "target_graph_file = raw_input(\"Type in your target graph file name:\")\n",
    "pattern_graph_file= raw_input(\"Type in your pattern graph file name:\")\n",
    "\n",
    "print(target_graph_file)\n",
    "print(pattern_graph_file)\n",
    "\n",
    "%store target_graph_file\n",
    "%store pattern_graph_file"
   ]
  },
  {
   "cell_type": "code",
   "execution_count": 2,
   "metadata": {
    "scrolled": true
   },
   "outputs": [
    {
     "name": "stdout",
     "output_type": "stream",
     "text": [
      "ont type: ont::want role: root parent: None \n",
      "ont type: ont::person role: experiencer parent: ont::want \n",
      "ont type: ont::consume role: formal parent: ont::want \n",
      "ont type: ont::person role: agent parent: ont::consume \n",
      "\n",
      "\n",
      "ont type: ont::want role: root parent: None \n",
      "ont type: ont::person role: experiencer parent: ont::want \n",
      "ont type: ont::consume role: formal parent: ont::want \n",
      "ont type: ont::person role: agent parent: ont::consume \n",
      "\n",
      "\n"
     ]
    }
   ],
   "source": [
    "from process import build_tree\n",
    "from ontology.ontology import load\n",
    "\n",
    "target_tree = build_tree(target_graph_file, \"target\") #build a tree from target file to match nodes and edges\n",
    "%store target_tree\n",
    "\n",
    "# prints out target tree"
   ]
  },
  {
   "cell_type": "code",
   "execution_count": null,
   "metadata": {},
   "outputs": [],
   "source": [
    "pattern_tree = build_tree(pattern_graph_file, \"pattern\") #build a tree from pattern file to match nodes and edges\n",
    "%store pattern_tree\n",
    "#prints out pattern_tree"
   ]
  }
 ],
 "metadata": {
  "kernelspec": {
   "display_name": "Python 2",
   "language": "python",
   "name": "python2"
  },
  "language_info": {
   "codemirror_mode": {
    "name": "ipython",
    "version": 2
   },
   "file_extension": ".py",
   "mimetype": "text/x-python",
   "name": "python",
   "nbconvert_exporter": "python",
   "pygments_lexer": "ipython2",
   "version": "2.7.15"
  }
 },
 "nbformat": 4,
 "nbformat_minor": 2
}
