{
 "cells": [
  {
   "cell_type": "markdown",
   "metadata": {},
   "source": [
    "## Instructions\n",
    "\n",
    "Upload target and pattern graph files below. "
   ]
  },
  {
   "cell_type": "code",
   "execution_count": null,
   "metadata": {},
   "outputs": [],
   "source": [
    "target_graph_file = raw_input(\"Type in your target graph file name:\")\n",
    "pattern_graph_file= raw_input(\"Type in your pattern graph file name:\")\n",
    "\n",
    "print(target_graph_file)\n",
    "print(pattern_graph_file)"
   ]
  },
  {
   "cell_type": "code",
   "execution_count": null,
   "metadata": {},
   "outputs": [],
   "source": [
    "from process import process\n",
    "\n",
    "target_graph = build_target_graph(target_graph_file) #build a tree from target file to match nodes and edges\n",
    "pattern_graph = build_pattern_graph(pattern_graph_file) #build a tree from pattern file to match nodes and edges\n"
   ]
  }
 ],
 "metadata": {
  "kernelspec": {
   "display_name": "Python 2",
   "language": "python",
   "name": "python2"
  },
  "language_info": {
   "codemirror_mode": {
    "name": "ipython",
    "version": 2
   },
   "file_extension": ".py",
   "mimetype": "text/x-python",
   "name": "python",
   "nbconvert_exporter": "python",
   "pygments_lexer": "ipython2",
   "version": "2.7.15"
  }
 },
 "nbformat": 4,
 "nbformat_minor": 2
}
