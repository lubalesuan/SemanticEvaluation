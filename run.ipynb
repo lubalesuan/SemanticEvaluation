{
 "cells": [
  {
   "cell_type": "markdown",
   "metadata": {},
   "source": [
    "## Instructions\n",
    "\n",
    "1) Upload target and pattern graph files below. "
   ]
  },
  {
   "cell_type": "code",
   "execution_count": null,
   "metadata": {},
   "outputs": [],
   "source": [
    "target_graph_file = raw_input(\"Type in your target graph file name:\")\n",
    "pattern_graph_file= raw_input(\"Type in your pattern graph file name:\")\n",
    "\n",
    "print(target_graph_file)\n",
    "print(pattern_graph_file)\n",
    "\n",
    "%store target_graph_file\n",
    "%store pattern_graph_file"
   ]
  },
  {
   "cell_type": "markdown",
   "metadata": {},
   "source": [
    "2) Build target tree"
   ]
  },
  {
   "cell_type": "code",
   "execution_count": null,
   "metadata": {
    "scrolled": true
   },
   "outputs": [],
   "source": [
    "from process import build_tree\n",
    "from ontology.ontology import load\n",
    "\n",
    "target_tree = build_tree(target_graph_file, \"target\") #build a tree from target file to match nodes and edges\n",
    "%store target_tree\n",
    "# prints out target tree"
   ]
  },
  {
   "cell_type": "markdown",
   "metadata": {},
   "source": [
    "3) Build pattern tree\n"
   ]
  },
  {
   "cell_type": "code",
   "execution_count": null,
   "metadata": {},
   "outputs": [],
   "source": [
    "pattern_tree = build_tree(pattern_graph_file, \"pattern\") #build a tree from pattern file to match nodes and edges\n",
    "%store pattern_tree\n",
    "#prints out pattern_tree"
   ]
  },
  {
   "cell_type": "markdown",
   "metadata": {},
   "source": [
    "4) Match two trees"
   ]
  }
 ],
 "metadata": {
  "kernelspec": {
   "display_name": "Python 2",
   "language": "python",
   "name": "python2"
  },
  "language_info": {
   "codemirror_mode": {
    "name": "ipython",
    "version": 2
   },
   "file_extension": ".py",
   "mimetype": "text/x-python",
   "name": "python",
   "nbconvert_exporter": "python",
   "pygments_lexer": "ipython2",
   "version": "2.7.15"
  }
 },
 "nbformat": 4,
 "nbformat_minor": 2
}
